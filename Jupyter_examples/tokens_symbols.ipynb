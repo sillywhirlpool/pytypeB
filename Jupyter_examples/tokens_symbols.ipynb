{
 "cells": [
  {
   "cell_type": "code",
   "execution_count": null,
   "id": "9ed28751",
   "metadata": {},
   "outputs": [],
   "source": [
    "import sys\n",
    "import pickle\n",
    "import urllib3\n",
    " \n",
    " \n",
    "sys.path.append(\"../\") \n",
    "urllib3.disable_warnings(urllib3.exceptions.InsecureRequestWarning)\n",
    "\n",
    "\n",
    "# Load the authenticated session object\n",
    "with open(\"mconnect_session.pkl\", \"rb\") as f:\n",
    "    mconnect = pickle.load(f)"
   ]
  },
  {
   "cell_type": "code",
   "execution_count": null,
   "id": "754a1c88",
   "metadata": {},
   "outputs": [],
   "source": [
    "import pandas as pd"
   ]
  },
  {
   "cell_type": "code",
   "execution_count": null,
   "id": "d4996364",
   "metadata": {},
   "outputs": [],
   "source": [
    "df= pd.DataFrame(mconnect.get_instruments().json())\n"
   ]
  },
  {
   "cell_type": "code",
   "execution_count": null,
   "id": "e00cafd1",
   "metadata": {},
   "outputs": [],
   "source": [
    "df.head()"
   ]
  },
  {
   "cell_type": "code",
   "execution_count": null,
   "id": "67362cbc",
   "metadata": {},
   "outputs": [],
   "source": [
    "filtered_df = df[df['symbol'] == 'TATACHEM']\n",
    "\n",
    "filtered_df"
   ]
  },
  {
   "cell_type": "code",
   "execution_count": null,
   "id": "7bd5b7fa",
   "metadata": {},
   "outputs": [],
   "source": [
    "filtered_df = df[(df['exch_seg'] == 'NFO') & \n",
    "                 (df['instrumenttype'] == 'OPTIDX') & \n",
    "                 (df['expiry'] == '31Jul2025') &\n",
    "                 (df['strike'] == '25500') &\n",
    "                 (df['symbol'] == 'NIFTY') \n",
    "                 ]\n",
    "filtered_df"
   ]
  }
 ],
 "metadata": {
  "kernelspec": {
   "display_name": "mstockoff",
   "language": "python",
   "name": "python3"
  },
  "language_info": {
   "codemirror_mode": {
    "name": "ipython",
    "version": 3
   },
   "file_extension": ".py",
   "mimetype": "text/x-python",
   "name": "python",
   "nbconvert_exporter": "python",
   "pygments_lexer": "ipython3",
   "version": "3.12.4"
  }
 },
 "nbformat": 4,
 "nbformat_minor": 5
}
