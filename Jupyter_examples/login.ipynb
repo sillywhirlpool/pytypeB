{
 "cells": [
  {
   "cell_type": "code",
   "execution_count": null,
   "id": "612cc1ff",
   "metadata": {},
   "outputs": [],
   "source": [
    "#using on vscode ubuntu 20.04\n",
    "import os\n",
    "import sys\n",
    "\n",
    "parent_dir = os.path.abspath(os.path.join(os.getcwd(), '..'))\n",
    "sys.path.append(parent_dir)\n",
    "\n",
    "from tradingapi_b.mconnect import *\n",
    "from tradingapi_b import __config__"
   ]
  },
  {
   "cell_type": "code",
   "execution_count": null,
   "id": "d8d7240c",
   "metadata": {},
   "outputs": [],
   "source": [
    "#Object for MConnect API\n",
    "mconnect_obj=MConnectB()"
   ]
  },
  {
   "cell_type": "code",
   "execution_count": null,
   "id": "345ea20e",
   "metadata": {},
   "outputs": [],
   "source": [
    "login_response=mconnect_obj.login('your_phone_number',\"your_password\")\n",
    "refreshToken=login_response.json()['data']['refreshToken']\n",
    "refreshToken\n",
    "\n"
   ]
  },
  {
   "cell_type": "code",
   "execution_count": null,
   "id": "52fc003e",
   "metadata": {},
   "outputs": [],
   "source": [
    "API_KEY ='your_api_key'\n",
    "refreshToken"
   ]
  },
  {
   "cell_type": "code",
   "execution_count": null,
   "id": "ad2a8c66",
   "metadata": {},
   "outputs": [],
   "source": [
    "gen_response=mconnect_obj.generate_session(API_KEY,refreshToken,'your_otp_as_string')\n",
    "x= gen_response.json()\n",
    "x"
   ]
  },
  {
   "cell_type": "code",
   "execution_count": null,
   "id": "d87f1061",
   "metadata": {},
   "outputs": [],
   "source": [
    "jwtToken= x['data']['jwtToken'] \n",
    "jwtToken  #needed for authorization along with private_key(API_KEY) in all the subsequent requests\n"
   ]
  },
  {
   "cell_type": "code",
   "execution_count": null,
   "id": "6ba6131d",
   "metadata": {},
   "outputs": [],
   "source": [
    "import pickle"
   ]
  },
  {
   "cell_type": "code",
   "execution_count": null,
   "id": "2eba3bc0",
   "metadata": {},
   "outputs": [],
   "source": [
    "with open(\"mconnect_session.pkl\", \"wb\") as f:\n",
    "    pickle.dump(mconnect_obj, f)\n",
    "\n",
    "print(\"Session saved! Now it can be used in other notebooks.\")"
   ]
  }
 ],
 "metadata": {
  "kernelspec": {
   "display_name": "mstockoff",
   "language": "python",
   "name": "python3"
  },
  "language_info": {
   "codemirror_mode": {
    "name": "ipython",
    "version": 3
   },
   "file_extension": ".py",
   "mimetype": "text/x-python",
   "name": "python",
   "nbconvert_exporter": "python",
   "pygments_lexer": "ipython3",
   "version": "3.12.4"
  }
 },
 "nbformat": 4,
 "nbformat_minor": 5
}
