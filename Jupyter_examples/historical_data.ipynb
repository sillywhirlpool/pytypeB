{
 "cells": [
  {
   "cell_type": "code",
   "execution_count": null,
   "id": "06713f66",
   "metadata": {},
   "outputs": [],
   "source": [
    "import sys\n",
    "import pickle\n",
    "import urllib3\n",
    " \n",
    " \n",
    "sys.path.append(\"../\") \n",
    "urllib3.disable_warnings(urllib3.exceptions.InsecureRequestWarning)\n",
    "\n",
    "\n",
    "# Load the authenticated session object\n",
    "with open(\"mconnect_session.pkl\", \"rb\") as f:\n",
    "    mconnect = pickle.load(f)"
   ]
  },
  {
   "cell_type": "code",
   "execution_count": null,
   "id": "7372cd65",
   "metadata": {},
   "outputs": [],
   "source": [
    "# Fetch historical chart data of TATAMOTORS-EQ\n",
    "response = mconnect.get_historical_chart(\"NSE\", \"3456\", \"ONE_HOUR\", \"2025-02-01\", \"2025-02-07\")\n",
    "\n",
    "# Print the response\n",
    "print(response.json())  # Returns JSON data"
   ]
  },
  {
   "cell_type": "code",
   "execution_count": null,
   "id": "3113448f",
   "metadata": {},
   "outputs": [],
   "source": [
    "# Fetch historical chart data of NIFTY2552225000CE\t22May2025 25000\n",
    "response = mconnect.get_historical_chart( \n",
    "            'NFO',\n",
    "            '49245',\n",
    "            'ONE_MINUTE',\n",
    "            '2025-05-14 09:15',\n",
    "            '2025-05-15 09:20'\n",
    ")\n",
    "# Print the response\n",
    "print(response.json())  # Returns JSON data"
   ]
  }
 ],
 "metadata": {
  "kernelspec": {
   "display_name": "mstockoff",
   "language": "python",
   "name": "python3"
  },
  "language_info": {
   "codemirror_mode": {
    "name": "ipython",
    "version": 3
   },
   "file_extension": ".py",
   "mimetype": "text/x-python",
   "name": "python",
   "nbconvert_exporter": "python",
   "pygments_lexer": "ipython3",
   "version": "3.12.4"
  }
 },
 "nbformat": 4,
 "nbformat_minor": 5
}
